{
 "cells": [
  {
   "attachments": {},
   "cell_type": "markdown",
   "metadata": {},
   "source": [
    "## LLM-Blender Usage examples\n",
    "\n",
    "Please first download our DeBERTa-v3-large PairRanker checkpoint to your local folder: [checkpoint link](https://drive.google.com/drive/folders/1E3qsZqja5IBaYEDRtVARU88mDl_nBqQ3?usp=sharing).\n",
    "And put that to `<your checkpoint path>`"
   ]
  },
  {
   "cell_type": "code",
   "execution_count": 1,
   "metadata": {},
   "outputs": [
    {
     "name": "stderr",
     "output_type": "stream",
     "text": [
      "/home/dongfu/.conda/envs/llm_reranker/lib/python3.9/site-packages/tqdm/auto.py:21: TqdmWarning: IProgress not found. Please update jupyter and ipywidgets. See https://ipywidgets.readthedocs.io/en/stable/user_install.html\n",
      "  from .autonotebook import tqdm as notebook_tqdm\n",
      "2023-06-04 23:00:10.305583: W tensorflow/compiler/tf2tensorrt/utils/py_utils.cc:38] TF-TRT Warning: Could not find TensorRT\n",
      "Special tokens have been added in the vocabulary, make sure the associated word embeddings are fine-tuned or trained.\n",
      "/home/dongfu/.conda/envs/llm_reranker/lib/python3.9/site-packages/transformers/convert_slow_tokenizer.py:454: UserWarning: The sentencepiece tokenizer that you are converting to a fast tokenizer uses the byte fallback option which is not implemented in the fast tokenizers. In practice this means that the fast version of the tokenizer can produce unknown tokens whereas the sentencepiece version would have converted these unknown tokens into a sequence of byte tokens matching the original piece of text.\n",
      "  warnings.warn(\n",
      "Special tokens have been added in the vocabulary, make sure the associated word embeddings are fine-tuned or trained.\n"
     ]
    },
    {
     "name": "stdout",
     "output_type": "stream",
     "text": [
      "\n",
      "Using DeBERTa model\n"
     ]
    },
    {
     "name": "stderr",
     "output_type": "stream",
     "text": [
      "Some weights of the model checkpoint at microsoft/deberta-v3-large were not used when initializing DebertaV2Model: ['lm_predictions.lm_head.LayerNorm.weight', 'mask_predictions.dense.bias', 'mask_predictions.classifier.weight', 'mask_predictions.LayerNorm.bias', 'lm_predictions.lm_head.dense.bias', 'mask_predictions.dense.weight', 'lm_predictions.lm_head.dense.weight', 'mask_predictions.classifier.bias', 'mask_predictions.LayerNorm.weight', 'lm_predictions.lm_head.LayerNorm.bias', 'lm_predictions.lm_head.bias']\n",
      "- This IS expected if you are initializing DebertaV2Model from the checkpoint of a model trained on another task or with another architecture (e.g. initializing a BertForSequenceClassification model from a BertForPreTraining model).\n",
      "- This IS NOT expected if you are initializing DebertaV2Model from the checkpoint of a model that you expect to be exactly identical (initializing a BertForSequenceClassification model from a BertForSequenceClassification model).\n"
     ]
    }
   ],
   "source": [
    "import llm_blender\n",
    "ranker_config = llm_blender.RankerConfig\n",
    "ranker_config.ranker_type = \"pairranker\"\n",
    "ranker_config.model_type = \"deberta\"\n",
    "ranker_config.model_name = \"microsoft/deberta-v3-large\" # ranker backbone\n",
    "ranker_config.load_checkpoint = \"checkpoint-best\" # ranker checkpoint <your checkpoint path>\n",
    "ranker_config.cache_dir = \"./hf_models\" # hugging face model cache dir\n",
    "ranker_config.source_max_length = 128\n",
    "ranker_config.candidate_max_length = 128\n",
    "ranker_config.n_tasks = 1 # number of singal that has been used to train the ranker. This checkpoint is trained using BARTScore only, thus being 1.\n",
    "fuser_config = llm_blender.GenFuserConfig\n",
    "fuser_config.model_name = \"llm-blender/gen_fuser_3b\" # our pre-trained fuser\n",
    "fuser_config.cache_dir = \"./hf_models\"\n",
    "fuser_config.max_length = 512\n",
    "fuser_config.candidate_max_length = 128\n",
    "blender_config = llm_blender.BlenderConfig\n",
    "blender_config.device = \"cuda\" # blender ranker and fuser device\n",
    "blender = llm_blender.Blender(blender_config, ranker_config, fuser_config)"
   ]
  },
  {
   "attachments": {},
   "cell_type": "markdown",
   "metadata": {},
   "source": [
    "## Using LLM-Blender for ranking\n",
    "By the rank function, LLM-Blender could ranks the candidates through pairwise comparisons and return the ranks. We show our ranker's ranks are highly correlated with ChatGPT ranks."
   ]
  },
  {
   "cell_type": "code",
   "execution_count": 2,
   "metadata": {},
   "outputs": [
    {
     "name": "stdout",
     "output_type": "stream",
     "text": [
      "Example:\n",
      "input: I've always wondered what the difference is between a skeptic and a denier.\n",
      "candidates: ['A skeptic is someone who doubts or expresses doubt about a claim or idea without being dismissive of it. They are open-minded and approach evidence with an open mind, searching for reasonable explanations and evidence to support their beliefs.\\n\\nA denier, on the other hand, is someone who actively works to deny or ignore evidence that contradicts their beliefs. They are often characterized by a closed mind and an unwillingness to consider alternative perspectives. They may also use rhetoric or false claims to try to discredit the evidence.', \"Can you explain?\\n5.   I've also noticed that some people who are skeptical about climate change also tend to be skeptical about other scientific subjects, like evolution. Can you explain that?\\n6.   What evidence have you seen that supports the theory of evolution?\\n\\nThese are just a few examples of questions that a journalist might ask to gather additional information about someone's skepticism about climate change. It's important for journalists to do their own research and fact-checking to ensure that their stories are accurate and balanced.\", \"Here are a few definitions that I found online:\\nSkeptic: a person who seeks to acquire and validate knowledge by investigation and analysis, especially of a scientific or mathematical nature.\\nDenier: a person who deliberately refuses to accept facts or evidence that contradict their beliefs.\\nIt looks like a skeptic is someone who is open to looking at evidence and facts, while a denier is someone who actively refuses to accept evidence that contradicts their beliefs. I guess that means a skeptic can be wrong, but a denier will never change their mind.\\nI think it's important to keep an open mind when it comes to facts and evidence, so I guess I'm a skeptic. What about you?\\nI'm always interested in learning new things, and I love when facts and evidence contradict my own beliefs. That's when I know I'm really learning something!\", 'There are a lot of skeptics but it seems like most of them are still in the believer camp. Are Skeptics now Deniers? Does that mean I can\\'t call myself a skeptic anymore?\\nWhat is the definition of a denier according to you?\\nWhat is the definition of a skeptic according to you?\\nAre you a skeptic or a denier?\\nI\\'ll answer questions 2 and 3 first. As for question 1, it depends on who you ask. Many scientists, particularly in the field of climate change, believe that \"denier\" is the appropriate term for those who dispute the established facts of climate science. I don\\'t really have a strong opinion on the matter.\\nAs for question 2, a denier could be someone who flatly refuses to believe in a particular idea or theory, regardless of evidence. A skeptic, on the other hand, is someone who is open-minded about new information and ideas, but also requires evidence to support those claims. In essence, a skeptic is someone who is willing to believe, but a denier is someone who refuses to believe, regardless of the evidence.\\nAs for question', 'I always wondered what the difference is between a skeptic and a denier.', \"You want to go over here and over here, but then I'm going to start talking about the difference between the two. We're going to go over there and I'm going to start talking about the difference between a skeptic and a denier.\\n\\nA skeptic is someone who seeks knowledge without an opinion. He is a person who is willing to entertain new ideas and new information. A skeptic is open-minded and can make a decision based on what he or she hears. A skeptic is also willing to change his or her opinion when new evidence or arguments come to light.\\n\\nA denier, on the other hand, is someone who takes opposing views as evidence for their point of view. A denier is someone who is stubborn and refuses to see things from the other side. A denier is also someone who is selective with what he or she believes. A denier often has a firm belief in one position regardless of any evidence to the contrary.\\n\\nSo, in summary, a skeptic looks for knowledge, while a denier just takes opposing views as evidence for their point of view.\", \"To me, they both seem to be people who don't believe in something, but I've learned that there's more to it than that. Can you explain the difference between a skeptic and a denier?\\n\\nSkepticism is a method of evaluating evidence and determining the validity of a claim. It involves questioning, analyzing, and critically assessing the available information before forming a conclusion. Skeptics approach claims with an open mind and examine the evidence objectively, looking for any flaws or weaknesses that might undermine the argument.\\n\\nDenial, on the other hand, is a refusal to acknowledge a belief or reality that conflicts with one's existing beliefs or worldview. Denial involves rejecting evidence or arguments that contradict a person's beliefs and ignoring or disregarding information that challenges their viewpoint.\\n\\nIn short, skepticism involves a critical evaluation of evidence, while denial involves rejecting evidence that contradicts a pre-existing belief.\", \"A skeptic questions everything. A denier rejects evidence that is contrary to their belief. It seems to me that the two are very similar. But, I could be wrong.\\n Am I a skeptic or a denier?\\n\\nA: I'm a skeptic. I try to be open-minded, and I'm willing to change my mind in the face of new evidence. But, I don't believe half of what I think I believe. I think that's a denier thing.\\n\\nQ: You mentioned that you're a skeptic. You also mentioned that you don't believe half of what you think you believe. Does that mean you're a denier?\\n\\nA: Not necessarily. A denier believes the opposite of what they've been told. I don't believe half of what I was told. I was told that if I didn't believe in global warming I would die. I don't believe that. I used to believe the earth was only 6,000 years old. I was told that if I didn't believe the earth was at most 6,000 years old, I would go to hell. I no longer believe the earth is only 6,000 years old. I'm not sure I was ever told that the earth is\", 'It seems like the two are synonyms, but there is some difference.\\n\\nI\\'ve been reading a lot about climate change and I came across the term \"denier\". Does this mean that a denier is someone who is completely opposed to climate change and believes that it doesn\\'t exist? Or does it mean that a skeptic who is not convinced of climate change is denier in the common sense of the word?\\n\\nA:\\n\\nNo, a denier is someone who denies the existence of a particular thing, event, or theory, but they don\\'t necessarily have strong evidence or convincing logic to support their position. In the case of climate change, a skeptic who is not convinced of its existence may not have the scientific evidence to support the idea.\\n\\nSome people who deny climate change may not have strong evidence, but they may have deeply held beliefs or opinions that are not necessarily based in fact. For example, they may believe that climate change is a natural cycle and that it will go away on its own, regardless of human intervention. Alternatively, they may have a cultural or historical context in which climate change is simply not a relevant issue.\\n\\nKeep in mind that it is important to have evidence-based discussions about climate change and', \"Askeptic is someone who持怀疑态度或持反对看法 about a particular idea, belief, or concept. They may question the validity or evidence behind it, and often seek evidence and logic to support or refute the idea. They may also be skeptical about new technology or ideas that they don't understand or don't have personal experience with.\\n\\nA denier is someone who firmly拒绝或否认 a particular idea, belief, or concept, even when evidence to the contrary is presented. They often have a strong emotional or personal stake in the idea, and may be more willing to ignore evidence to the contrary, even if it is presented in a way that is logical and consistent with other beliefs. They may also be more willing to lie or spread misinformation to support their beliefs. This can be especially harmful when it comes to beliefs that have a significant impact on someone's life, such as religious beliefs or political affiliations.\", 'A skeptic believes that there is no evidence of God, so I assume they are non-believers. So are deniers believers?\\nI\\'m talking about people who say there is no such thing as \"climate change\" or \"global warming\" when there is mountains and mountains of evidence that shows, without question, that it\\'s happening and that humans are the cause.\\nThis page was last edited on 3 February 2013, at 07:51.If you are looking for a place to get away, consider a holiday at a holiday park in the UK.The holiday park is a perfect place to get away.\\nThe holiday park is a perfect place to get away. You can choose from a variety of options that will allow you to have a great time.In short, I’m a bit stuck.\\nThis is a follow up of my previous article entitled “Why is it so hard to create a profitable online business?”.Tips on How to Start a Business With Little Investment.\\nIn this article, we shall look at how to start a business with little investment. There are plenty of opportunities for setting up a business with little or no money.\\nHow to start a business with little investment?\\nWhy is it so hard', 'A skeptic questions everything but is willing to accept new evidence. A denier is someone who refuses to accept any evidence at all. That is, they are closed-minded about new evidence.\\nSo this week\\'s post is meant to be a little thought experiment. It\\'s not meant to be a debate, and I\\'m not saying which side is right. I\\'m just trying to understand the difference between the two, and how people end up on one side or the other.\\nSo let\\'s say you have a friend who says that dinosaurs and humans coexisted. You don\\'t think that\\'s possible. You don\\'t have any evidence to support it, but it seems absurd to you. So you say \"That\\'s ridiculous! Dinosaurs and humans couldn\\'t possibly coexist.\"\\nYour friend says \"Sure, they couldn\\'t coexist in the way we imagine them. But it\\'s plausible that at one point, some dinosaurs lived in the same general area as some early humans, and that this gave rise to the idea that they could coexist.\"\\nSo you\\'re still not convinced. But you realize your friend is not being disingenuous. They\\'re not just being silly to try to win an argument. They actually believe it. So you say']\n"
     ]
    }
   ],
   "source": [
    "import datasets\n",
    "from llm_blender.gpt_eval.cor_eval import COR_MAPS\n",
    "from llm_blender.gpt_eval.utils import get_ranks_from_chatgpt_cmps\n",
    "mixinstruct_test = datasets.load_dataset(\"llm-blender/mix-instruct\", split=\"test\", streaming=True)\n",
    "few_examples = list(mixinstruct_test.take(8))\n",
    "# remove cmp_results with none cmp results\n",
    "for ex in few_examples:\n",
    "    keys = list(ex['cmp_results'].keys())\n",
    "    for key in keys:\n",
    "        if not ex['cmp_results'][key]:\n",
    "            del ex['cmp_results'][key]\n",
    "few_examples = [x for x in few_examples if x['cmp_results']]\n",
    "inputs = [x['input'] for x in few_examples]\n",
    "candidates_texts = [[cand['text'] for cand in x['candidates']] for x in few_examples]\n",
    "print(\"Example:\")\n",
    "print(\"input:\", inputs[0])\n",
    "print(\"candidates:\", candidates_texts[0])"
   ]
  },
  {
   "cell_type": "code",
   "execution_count": 3,
   "metadata": {},
   "outputs": [
    {
     "name": "stderr",
     "output_type": "stream",
     "text": [
      "Ranking candidates: 100%|██████████| 4/4 [00:44<00:00, 11.18s/it]"
     ]
    },
    {
     "name": "stdout",
     "output_type": "stream",
     "text": [
      "ranks: [[ 1 11  4  9 12  5  2  8  6  3 10  7]\n",
      " [ 1  9  3  2 12 10  8 11  4  6  5  7]\n",
      " [12  9  5  6  7 11  3  4  1  2 10  8]\n",
      " [ 2  7  4  3 12 10  8  9  1  5 11  6]\n",
      " [ 2  1  3  5 12  8 11  7  6  4  9 10]\n",
      " [ 2 11  3  5 12 10  1  7  4  6  9  8]\n",
      " [ 4  3  9  7 12  1 10  6  8  5 11  2]\n",
      " [ 2  9  7  3 12 10  1 11  4  5  8  6]]\n"
     ]
    },
    {
     "name": "stderr",
     "output_type": "stream",
     "text": [
      "\n"
     ]
    }
   ],
   "source": [
    "\n",
    "ranks = blender.rank(inputs, candidates_texts, return_scores=False, batch_size=2)\n",
    "print(\"ranks:\", ranks)"
   ]
  },
  {
   "cell_type": "code",
   "execution_count": 4,
   "metadata": {},
   "outputs": [
    {
     "name": "stdout",
     "output_type": "stream",
     "text": [
      "Correlation with ChatGPT\n",
      "------------------------\n",
      "pearson 0.502434644007648\n",
      "spearman 0.35554809046205055\n",
      "spearman_footrule 25.5\n",
      "set_based 0.6422190656565656\n"
     ]
    }
   ],
   "source": [
    "import numpy as np\n",
    "llm_ranks_map, gpt_cmp_results = get_ranks_from_chatgpt_cmps(few_examples)\n",
    "gpt_ranks = np.array(list(llm_ranks_map.values())).T\n",
    "print(\"Correlation with ChatGPT\")\n",
    "print(\"------------------------\")\n",
    "for cor_name, cor_func in COR_MAPS.items():\n",
    "    print(cor_name, cor_func(ranks, gpt_ranks))"
   ]
  },
  {
   "attachments": {},
   "cell_type": "markdown",
   "metadata": {},
   "source": [
    "## Using LLM-blender to directly compare two candidates"
   ]
  },
  {
   "cell_type": "code",
   "execution_count": 5,
   "metadata": {},
   "outputs": [
    {
     "name": "stderr",
     "output_type": "stream",
     "text": [
      "Ranking candidates: 100%|██████████| 4/4 [00:00<00:00,  5.70it/s]"
     ]
    },
    {
     "name": "stdout",
     "output_type": "stream",
     "text": [
      "comparison_results: [ True  True False  True False  True  True  True]\n"
     ]
    },
    {
     "name": "stderr",
     "output_type": "stream",
     "text": [
      "\n"
     ]
    }
   ],
   "source": [
    "candidates_A = [x['candidates'][0]['text'] for x in few_examples]\n",
    "candidates_B = [x['candidates'][1]['text'] for x in few_examples]\n",
    "comparison_results = blender.compare(inputs, candidates_A, candidates_B, batch_size=2)\n",
    "print(\"comparison_results:\", comparison_results)"
   ]
  },
  {
   "attachments": {},
   "cell_type": "markdown",
   "metadata": {},
   "source": [
    "## Using LLM-Blender for fuse generation\n",
    "We show that the the fused generation using the top-ranked candidate from the rankers could get outputs of higher quality."
   ]
  },
  {
   "cell_type": "code",
   "execution_count": 6,
   "metadata": {},
   "outputs": [
    {
     "name": "stderr",
     "output_type": "stream",
     "text": [
      "Fusing candidates: 100%|██████████| 4/4 [00:14<00:00,  3.64s/it]"
     ]
    },
    {
     "name": "stdout",
     "output_type": "stream",
     "text": [
      "fuse_generations: [\"A skeptic is someone who questions the validity of a claim or idea, while a denier is someone who dismisses or ignores evidence that contradicts their beliefs. Skeptics approach claims with an open mind and seek evidence to support or refute them, while denier's often have a closed mind and refuse to consider evidence that contradicts their beliefs.\", \"One number word that has the same number of letters as the number is 'one'.\", 'Here is an example of a count from 1 to 5 in Python:  python i = 1; while (i = 5)  console.writeLine(i); i++;   This will output:  1 2 3 4 5 ', 'Air pollution can be monitored using a variety of technologies such as air quality monitors, remote sensing, satellites, and ground-based sensors. Some common types of air quality monitors include portable air quality monitors, stationary air quality monitors, and mobile air quality monitors.', 'Peanut butter is generally considered safe for most people to eat in moderation. However, if you have a peanut allergy or intolerance, it is important to avoid peanuts and peanut-containing products. It is always a good idea to consult with a healthcare professional before making significant changes to your diet.', 'There are many benefits to having a dog in the family, including providing companionship, reducing stress and anxiety, increasing physical activity, fostering responsibility and empathy in children, and providing a sense of security. Additionally, dogs can be trained to alert their owners to potential dangers and provide security for the family.', \"I'm sorry, I don't understand what you're asking. Could you please provide more context or clarify your question?\", 'To find north on Google Maps on Android, follow these steps: 1. Open the Google Maps app on your Android device. 2. Swipe up from the bottom of the screen to access the compass. 3. Rotate your device to find the direction of north. 4. The compass needle will point towards the north.']\n"
     ]
    },
    {
     "name": "stderr",
     "output_type": "stream",
     "text": [
      "\n"
     ]
    }
   ],
   "source": [
    "from llm_blender.blender.blender_utils import get_topk_candidates_from_ranks\n",
    "topk_candidates = get_topk_candidates_from_ranks(ranks, candidates_texts, top_k=3)\n",
    "fuse_generations = blender.fuse(inputs, topk_candidates, batch_size=2)\n",
    "print(\"fuse_generations:\", fuse_generations)"
   ]
  },
  {
   "cell_type": "code",
   "execution_count": 7,
   "metadata": {},
   "outputs": [
    {
     "name": "stderr",
     "output_type": "stream",
     "text": [
      "Ranking candidates: 100%|██████████| 4/4 [00:44<00:00, 11.24s/it]\n",
      "Fusing candidates: 100%|██████████| 4/4 [00:14<00:00,  3.74s/it]\n"
     ]
    }
   ],
   "source": [
    "# # Or do rank and fuser together\n",
    "fuse_generations, ranks = blender.rank_and_fuse(inputs, candidates_texts, return_scores=False, batch_size=2, top_k=3)"
   ]
  },
  {
   "cell_type": "code",
   "execution_count": 8,
   "metadata": {},
   "outputs": [
    {
     "name": "stderr",
     "output_type": "stream",
     "text": [
      "Evaluating bartscore: 100%|██████████| 8/8 [00:00<00:00, 39.97it/s]"
     ]
    },
    {
     "name": "stdout",
     "output_type": "stream",
     "text": [
      "Fusion Scores\n",
      "   bartscore: -3.8043667674064636\n",
      "LLM Scores\n",
      "0 oasst-sft-4-pythia-12b-epoch-3.5\n",
      "   bartscore: -3.807092547416687\n",
      "1 koala-7B-HF\n",
      "   bartscore: -4.550534904003143\n",
      "2 alpaca-native\n",
      "   bartscore: -4.206288725137711\n",
      "3 llama-7b-hf-baize-lora-bf16\n",
      "   bartscore: -3.9363586008548737\n",
      "4 flan-t5-xxl\n",
      "   bartscore: -4.934148460626602\n",
      "5 stablelm-tuned-alpha-7b\n",
      "   bartscore: -4.432858616113663\n",
      "6 vicuna-13b-1.1\n",
      "   bartscore: -4.20223930478096\n",
      "7 dolly-v2-12b\n",
      "   bartscore: -4.440025061368942\n",
      "8 moss-moon-003-sft\n",
      "   bartscore: -3.587637573480606\n",
      "9 chatglm-6b\n",
      "   bartscore: -3.7075400948524475\n",
      "10 mpt-7b\n",
      "   bartscore: -4.1352817714214325\n",
      "11 mpt-7b-instruct\n",
      "   bartscore: -4.282741814851761\n"
     ]
    },
    {
     "name": "stderr",
     "output_type": "stream",
     "text": [
      "\n"
     ]
    }
   ],
   "source": [
    "from llm_blender.common.evaluation import overall_eval\n",
    "metrics = ['bartscore']\n",
    "targets = [x['output'] for x in few_examples]\n",
    "scores = overall_eval(fuse_generations, targets, metrics)\n",
    "\n",
    "print(\"Fusion Scores\")\n",
    "for key, value in scores.items():\n",
    "    print(\"  \", key+\":\", np.mean(value))\n",
    "\n",
    "print(\"LLM Scores\")\n",
    "llms = [x['model'] for x in few_examples[0]['candidates']]\n",
    "llm_scores_map = {llm: {metric: [] for metric in metrics} for llm in llms}\n",
    "for ex in few_examples:\n",
    "    for cand in ex['candidates']:\n",
    "        for metric in metrics:\n",
    "            llm_scores_map[cand['model']][metric].append(cand['scores'][metric])\n",
    "for i, (llm, scores_map) in enumerate(llm_scores_map.items()):\n",
    "    print(f\"{i} {llm}\")\n",
    "    for metric, llm_scores in llm_scores_map[llm].items():\n",
    "        print(\"  \", metric+\":\", np.mean(llm_scores))\n"
   ]
  }
 ],
 "metadata": {
  "kernelspec": {
   "display_name": "llm_reranker",
   "language": "python",
   "name": "python3"
  },
  "language_info": {
   "codemirror_mode": {
    "name": "ipython",
    "version": 3
   },
   "file_extension": ".py",
   "mimetype": "text/x-python",
   "name": "python",
   "nbconvert_exporter": "python",
   "pygments_lexer": "ipython3",
   "version": "3.9.16"
  },
  "orig_nbformat": 4
 },
 "nbformat": 4,
 "nbformat_minor": 2
}
